{
 "cells": [
  {
   "cell_type": "code",
   "execution_count": 7,
   "id": "2a5d40bf-9c45-4dd8-a4f8-f0f5335c205c",
   "metadata": {},
   "outputs": [],
   "source": [
    "import openai\n",
    "import os\n",
    "import pickle\n",
    "import pandas as pd\n",
    "from tqdm import tqdm\n",
    "from dotenv import load_dotenv, find_dotenv\n",
    "_ = load_dotenv(find_dotenv())\n",
    "import json\n",
    "import hashlib\n",
    "\n",
    "from langchain.chat_models import ChatOpenAI\n",
    "from langchain.prompts import ChatPromptTemplate\n",
    "from langchain.output_parsers import ResponseSchema\n",
    "from langchain.output_parsers import StructuredOutputParser\n",
    "openai.api_key  = os.getenv('OPENAI_API_KEY')"
   ]
  },
  {
   "cell_type": "code",
   "execution_count": 8,
   "id": "b2c54556",
   "metadata": {},
   "outputs": [],
   "source": [
    "def generate_dpo_rejected(language, prompt_template_fname, llm):\n",
    "    \n",
    "    response_schemas = []\n",
    "    answer_schema =  ResponseSchema(name=f\"\"\"Student Answer\"\"\",\n",
    "                                          description=f\"\"\"Student answer\"\"\"\n",
    "                                         )\n",
    "    response_schemas.append(answer_schema)\n",
    "\n",
    "    output_parser = StructuredOutputParser.from_response_schemas(response_schemas)\n",
    "    format_instructions = output_parser.get_format_instructions()\n",
    "\n",
    "\n",
    "    prompt_path = os.path.join(os.getenv(\"PROMPTS\"),prompt_template_fname)\n",
    "    with open(prompt_path,\"r\") as file:\n",
    "        template_string = file.read()\n",
    "    prompt_template = ChatPromptTemplate.from_template(template_string)\n",
    "\n",
    "    qa_path = os.getenv(\"DPO_QA\")\n",
    "    qa_data = os.listdir(qa_path)\n",
    "\n",
    "    for idx, qa in enumerate(qa_data):\n",
    "        \n",
    "        with open(os.path.join(qa_path,qa),'r') as f:\n",
    "            try:\n",
    "                data = json.loads(f.read())\n",
    "                del data[\"Teacher Answer\"]\n",
    "                \n",
    "                message = prompt_template.format_messages(\n",
    "                    topic=data[\"topic\"],\n",
    "                    language=language,\n",
    "                    question=data[\"Question\"],\n",
    "                    format_instructions=format_instructions\n",
    "                    )\n",
    "                response = llm(message)\n",
    "                output_dict = output_parser.parse(response.content)\n",
    "                output_dict[\"topic_hash\"] = hashlib.md5(data[\"topic\"].encode()).hexdigest()\n",
    "                output_dict[\"topic\"]=data[\"topic\"]\n",
    "                output_dict[\"Question\"]=data[\"Question\"]\n",
    "\n",
    "\n",
    "                path = os.path.join(os.getenv(\"DPO_QA\"),f\"\"\"topic_{idx}_qa_rejected.json\"\"\")\n",
    "                with open(path, \"w\",  encoding='utf-8') as file:\n",
    "                    json.dump(output_dict,   file, ensure_ascii=False)\n",
    "\n",
    "            except Exception as e:\n",
    "                pass\n",
    "\n"
   ]
  },
  {
   "cell_type": "code",
   "execution_count": 9,
   "id": "e70c1c2c-edce-4611-b400-a24ab86be7b9",
   "metadata": {},
   "outputs": [],
   "source": [
    "def generate_dpo_accepted(topics, language, prompt_template_fname, llm):\n",
    "\n",
    "    \"\"\"\n",
    "    Given a topic generate num_questions question,answer pairs\n",
    "    about the topic.\n",
    "    \"\"\"\n",
    "\n",
    "    response_schemas = []\n",
    "    \n",
    "    question_schema =  ResponseSchema(name=f\"\"\"Question\"\"\",\n",
    "                                          description=f\"\"\"Generated question\"\"\"\n",
    "                                         )\n",
    "    response_schemas.append(question_schema)\n",
    "    answer_schema =  ResponseSchema(name=f\"\"\"Teacher Answer\"\"\",\n",
    "                                          description=f\"\"\"Generated answer\"\"\"\n",
    "                                         )\n",
    "    response_schemas.append(answer_schema)\n",
    "\n",
    "    output_parser = StructuredOutputParser.from_response_schemas(response_schemas)\n",
    "    format_instructions = output_parser.get_format_instructions()\n",
    "\n",
    "\n",
    "    prompt_path = os.path.join(os.getenv(\"PROMPTS\"),prompt_template_fname)\n",
    "    with open(prompt_path,\"r\") as file:\n",
    "        template_string = file.read()\n",
    "    prompt_template = ChatPromptTemplate.from_template(template_string)\n",
    "\n",
    "\n",
    "    for idx, row in tqdm(topics.iterrows()):\n",
    "\n",
    "        message = prompt_template.format_messages(\n",
    "                    topic=row[\"topic\"],\n",
    "                    language=language,        \n",
    "                    format_instructions=format_instructions)\n",
    "\n",
    "        response = llm(message)\n",
    "        output_dict = output_parser.parse(response.content)\n",
    "        output_dict[\"topic_hash\"] = hashlib.md5(row[\"topic\"].encode()).hexdigest()\n",
    "        output_dict[\"topic\"]=row[\"topic\"]\n",
    "\n",
    "\n",
    "        path = os.path.join(os.getenv(\"DPO_QA\"),f\"\"\"topic_{idx+1}_qa_accepted.json\"\"\")\n",
    "        with open(path, \"w\",  encoding='utf-8') as file:\n",
    "            json.dump(output_dict,   file, ensure_ascii=False)"
   ]
  },
  {
   "cell_type": "code",
   "execution_count": 10,
   "id": "30202644-ee9a-422e-ae44-501a60499cf7",
   "metadata": {},
   "outputs": [],
   "source": [
    "def get_dpo_topics():\n",
    "    \"\"\"\n",
    "    Reads topics from txt files and adds to a dataframe. Each topic can be in a separate file\n",
    "    \"\"\"\n",
    "    topics = []\n",
    "    #path where we store the exam topic txt files\n",
    "    topics_path = os.getenv(\"DPO_TOPICS\")\n",
    "    print(topics_path)\n",
    "    #read in the exam topic files and return as a pandas DataFrame\n",
    "    for file in list(filter(lambda f: f.endswith(\".txt\"),os.listdir(topics_path))):\n",
    "        print(file)\n",
    "        with open(os.path.join(topics_path,file),'r') as file:\n",
    "            topics.append(file.read())\n",
    "    topics = pd.DataFrame(topics)\n",
    "    topics.columns = [\"topic\"]\n",
    "    return topics\n",
    "    "
   ]
  },
  {
   "cell_type": "markdown",
   "id": "c8e32a71-c22e-494f-ba02-538b8d25f81b",
   "metadata": {},
   "source": [
    "## Generate DPO data"
   ]
  },
  {
   "cell_type": "code",
   "execution_count": 23,
   "id": "1806c089-9721-4e7c-afc6-c64470ce1a57",
   "metadata": {},
   "outputs": [
    {
     "name": "stdout",
     "output_type": "stream",
     "text": [
      "/Users/vasilishatzopoulos/repositories/DPO_generator/documents/processed/dpo_topics\n",
      "topic_1.txt\n",
      "topic_3.txt\n",
      "topic_2.txt\n",
      "topic_4.txt\n"
     ]
    },
    {
     "name": "stderr",
     "output_type": "stream",
     "text": [
      "0it [00:00, ?it/s]"
     ]
    },
    {
     "name": "stderr",
     "output_type": "stream",
     "text": [
      "4it [00:13,  3.32s/it]\n"
     ]
    }
   ],
   "source": [
    "accepted_answer_model = \"gpt-3.5-turbo\"\n",
    "rejected_answer_model = os.getenv(\"LLM_URL\")\n",
    "#model = \"gpt-4-turbo-preview\"\n",
    "topics = get_dpo_topics()\n",
    "language = \"Greek\"\n",
    "temperature = 0.2\n",
    "max_tokens=512\n",
    "random_seed = 1\n",
    "\n",
    "#generate accepted\n",
    "prompt_template_fname = \"generate_qa_from_passage_prompt.txt\"\n",
    "llm = ChatOpenAI(temperature=temperature, model=accepted_answer_model)\n",
    "generate_dpo_accepted(topics, language, prompt_template_fname, llm)\n",
    "\n",
    "#generate rejected\n",
    "prompt_template_fname = \"generate_rejected_answer_from_passage_prompt.txt\"\n",
    "llm = ChatOpenAI(\n",
    "        base_url=os.getenv(\"LLM_URL\"),\n",
    "        api_key=\"not-needed\",\n",
    "        temperature=temperature,\n",
    "        max_tokens=max_tokens,\n",
    "        model_kwargs={\"seed\": random_seed}\n",
    "        )\n",
    "generate_dpo_rejected(language, prompt_template_fname, llm)\n",
    "\n"
   ]
  },
  {
   "cell_type": "code",
   "execution_count": 25,
   "id": "d4f2322f",
   "metadata": {},
   "outputs": [],
   "source": [
    "#generate rejected\n",
    "prompt_template_fname = \"generate_rejected_answer_from_passage_prompt.txt\"\n",
    "llm = ChatOpenAI(\n",
    "        base_url=os.getenv(\"LLM_URL\"),\n",
    "        api_key=\"not-needed\",\n",
    "        temperature=temperature,\n",
    "        max_tokens=max_tokens,\n",
    "        model_kwargs={\"seed\": random_seed}\n",
    "        )\n",
    "generate_dpo_rejected(language, prompt_template_fname, llm)\n",
    "\n"
   ]
  },
  {
   "cell_type": "code",
   "execution_count": null,
   "id": "d6f1ed33",
   "metadata": {},
   "outputs": [],
   "source": []
  }
 ],
 "metadata": {
  "kernelspec": {
   "display_name": "Python 3 (ipykernel)",
   "language": "python",
   "name": "python3"
  },
  "language_info": {
   "codemirror_mode": {
    "name": "ipython",
    "version": 3
   },
   "file_extension": ".py",
   "mimetype": "text/x-python",
   "name": "python",
   "nbconvert_exporter": "python",
   "pygments_lexer": "ipython3",
   "version": "3.11.7"
  }
 },
 "nbformat": 4,
 "nbformat_minor": 5
}
